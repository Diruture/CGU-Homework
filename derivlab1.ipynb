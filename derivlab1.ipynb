{
 "cells": [
  {
   "cell_type": "code",
   "execution_count": 23,
   "metadata": {},
   "outputs": [],
   "source": [
    "import numpy as np\n",
    "import pandas as pd\n",
    "import calendar"
   ]
  },
  {
   "cell_type": "code",
   "execution_count": 69,
   "metadata": {},
   "outputs": [],
   "source": [
    "#import data\n",
    "#All data are as of 02/14/2020 after market close \n",
    "\n",
    "#Range of futures maturities\n",
    "#futures price: March, May, July, October\n",
    "T = [3, 5, 8]\n",
    "current_month = 2\n",
    "\n",
    "#LIBOR rate\n",
    "\n",
    "#using linear interpolation for 5M and 8M libor\n",
    "libor_term = [1, 2, 3, 6, 12]\n",
    "libor_rate = [1.65825, 1.6625, 1.69175, 1.71, 1.79838] \n",
    "date = pd.to_datetime(['2020-02-14', '2020-05-01', '2020-07-01', '2020-10-01'])\n",
    "date_diff = [(date[1]-date[0]).days/31, (date[2]-date[0]).days/31, (date[3]-date[0]).days/31]\n",
    "rate = np.interp(date_diff, libor_term, libor_rate)\n",
    "\n",
    "libor = pd.DataFrame({'Term': T, 'Rate':rate})\n",
    "\n",
    "#futures price: March, May, July, October\n",
    "future = pd.DataFrame(data = {'maturity':T, 'price':[14.55, 14.45, 14.48]})\n",
    "\n",
    "#spot as of 02/14/2020\n",
    "s0 = 14.63\n"
   ]
  },
  {
   "cell_type": "code",
   "execution_count": 75,
   "metadata": {},
   "outputs": [
    {
     "name": "stdout",
     "output_type": "stream",
     "text": [
      "   exp_month fair_value diff(fair-future) percentage_diff\n",
      "3M       May    14.6915          0.141452      0.00972181\n",
      "5M       Jul     14.734          0.284033       0.0196562\n",
      "8M       Oct    14.7998          0.319799       0.0220856\n"
     ]
    }
   ],
   "source": [
    "#Get the fair values of the future contracts \n",
    "fair_value = {}\n",
    "n = len(future.loc[:,'maturity'])\n",
    "for m in range(n):\n",
    "    fv = s0*np.exp((libor.iloc[m,0]/12)*(libor.iloc[m,1]/100))\n",
    "    diff = fv - future.iloc[m,1]\n",
    "    perc_diff = diff/future.iloc[m,1]\n",
    "    exp_month = calendar.month_abbr[T[m] + current_month]\n",
    "    fair_value[str(T[m])+'M'] = [exp_month, fv, diff, perc_diff]\n",
    "fairValue = pd.DataFrame(fair_value, index = ['exp_month', 'fair_value', 'diff(fair-future)', 'percentage_diff']).T\n",
    "print(fairValue)"
   ]
  },
  {
   "cell_type": "code",
   "execution_count": 71,
   "metadata": {},
   "outputs": [],
   "source": [
    "#Solve for cost of carry\n",
    "def solver(S0, F, T):\n",
    "    return np.log(F/S0)/T"
   ]
  },
  {
   "cell_type": "code",
   "execution_count": 79,
   "metadata": {},
   "outputs": [
    {
     "name": "stdout",
     "output_type": "stream",
     "text": [
      "    net_cost_of_carry  relative_utility\n",
      "3M          -0.026490          0.043257\n",
      "5M          -0.033372          0.050377\n",
      "8M          -0.016669          0.033978\n"
     ]
    }
   ],
   "source": [
    "#Solve for c-y and u-y\n",
    "#u-y helps to to draw inferences about the relative cost of storing your commodity to the relative utility that the market assigns to holding the underlying asset \n",
    "cost_of_carry = {}\n",
    "for m in range(n):\n",
    "    c = solver(s0, future.iloc[m,1], date_diff[m]/12)\n",
    "    cost_of_carry[str(future.iloc[m,0])+'M']= [c, -(c-libor.iloc[m,1]/100)]\n",
    "costCarry = pd.DataFrame(cost_of_carry, index = ['net_cost_of_carry', 'relative_utility']).T\n",
    "print(costCarry)"
   ]
  },
  {
   "cell_type": "code",
   "execution_count": null,
   "metadata": {},
   "outputs": [],
   "source": []
  }
 ],
 "metadata": {
  "kernelspec": {
   "display_name": "Python 3",
   "language": "python",
   "name": "python3"
  },
  "language_info": {
   "codemirror_mode": {
    "name": "ipython",
    "version": 3
   },
   "file_extension": ".py",
   "mimetype": "text/x-python",
   "name": "python",
   "nbconvert_exporter": "python",
   "pygments_lexer": "ipython3",
   "version": "3.7.4"
  }
 },
 "nbformat": 4,
 "nbformat_minor": 4
}
